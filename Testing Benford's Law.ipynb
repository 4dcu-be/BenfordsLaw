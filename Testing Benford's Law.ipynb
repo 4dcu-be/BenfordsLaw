{
 "cells": [
  {
   "cell_type": "code",
   "execution_count": 1,
   "metadata": {},
   "outputs": [],
   "source": [
    "import pandas as pd\n",
    "import numpy as np\n",
    "import seaborn as sns\n",
    "import matplotlib.pyplot as plt\n",
    "from collections import Counter\n",
    "\n",
    "palette = sns.color_palette(\"GnBu_r\", 9)"
   ]
  },
  {
   "cell_type": "markdown",
   "metadata": {},
   "source": [
    "# Testing Benford's Law"
   ]
  },
  {
   "cell_type": "code",
   "execution_count": 2,
   "metadata": {},
   "outputs": [
    {
     "data": {
      "image/png": "[encoded data removed]",
      "text/plain": [
       "<Figure size 432x288 with 1 Axes>"
      ]
     },
     "metadata": {
      "needs_background": "light"
     },
     "output_type": "display_data"
    }
   ],
   "source": [
    "#P(n)=log10(1+1/n)\n",
    "\n",
    "benford_proba = ({'digit': i, 'prob': np.log10(1+1/i)} for i in range(1,10,1))\n",
    "ideal_df = pd.DataFrame(benford_proba)\n",
    "sns.barplot(x='digit', y='prob', data=ideal_df, palette=palette).set_title('Benford\\'s Law: hypothetical distribution')\n",
    "plt.show()"
   ]
  },
  {
   "cell_type": "code",
   "execution_count": 7,
   "metadata": {},
   "outputs": [],
   "source": [
    "def plot_benford(x, y, data, title):\n",
    "    fig, ax = plt.subplots()\n",
    "    sns.barplot(x=x, y=y, data=data, palette=palette, ax=ax, zorder=0).set_title(title)\n",
    "    sns.pointplot(x='digit', y='prob', data=ideal_df, ax=ax, zorder=1, join=False, color='gray')\n",
    "    ax.set(xlabel='First Digit', ylabel='Frequency')\n",
    "    return fig, ax "
   ]
  },
  {
   "cell_type": "markdown",
   "metadata": {},
   "source": [
    "# Belgian City Populations\n",
    "\n",
    "The first thing we'll check is the poputation of Belgian cities. As only the top 400 is listed we'll scale the data down so the smallest city has one inhabitant."
   ]
  },
  {
   "cell_type": "code",
   "execution_count": 4,
   "metadata": {},
   "outputs": [
    {
     "data": {
      "text/html": [
       "<div>\n",
       "<style scoped>\n",
       "    .dataframe tbody tr th:only-of-type {\n",
       "        vertical-align: middle;\n",
       "    }\n",
       "\n",
       "    .dataframe tbody tr th {\n",
       "        vertical-align: top;\n",
       "    }\n",
       "\n",
       "    .dataframe thead th {\n",
       "        text-align: right;\n",
       "    }\n",
       "</style>\n",
       "<table border=\"1\" class=\"dataframe\">\n",
       "  <thead>\n",
       "    <tr style=\"text-align: right;\">\n",
       "      <th></th>\n",
       "      <th>first_digit</th>\n",
       "      <th>count</th>\n",
       "    </tr>\n",
       "  </thead>\n",
       "  <tbody>\n",
       "    <tr>\n",
       "      <th>0</th>\n",
       "      <td>1</td>\n",
       "      <td>0.3275</td>\n",
       "    </tr>\n",
       "    <tr>\n",
       "      <th>1</th>\n",
       "      <td>2</td>\n",
       "      <td>0.1875</td>\n",
       "    </tr>\n",
       "    <tr>\n",
       "      <th>2</th>\n",
       "      <td>3</td>\n",
       "      <td>0.0950</td>\n",
       "    </tr>\n",
       "    <tr>\n",
       "      <th>3</th>\n",
       "      <td>4</td>\n",
       "      <td>0.0875</td>\n",
       "    </tr>\n",
       "    <tr>\n",
       "      <th>4</th>\n",
       "      <td>5</td>\n",
       "      <td>0.0650</td>\n",
       "    </tr>\n",
       "    <tr>\n",
       "      <th>5</th>\n",
       "      <td>6</td>\n",
       "      <td>0.0850</td>\n",
       "    </tr>\n",
       "    <tr>\n",
       "      <th>6</th>\n",
       "      <td>7</td>\n",
       "      <td>0.0675</td>\n",
       "    </tr>\n",
       "    <tr>\n",
       "      <th>7</th>\n",
       "      <td>8</td>\n",
       "      <td>0.0425</td>\n",
       "    </tr>\n",
       "    <tr>\n",
       "      <th>8</th>\n",
       "      <td>9</td>\n",
       "      <td>0.0425</td>\n",
       "    </tr>\n",
       "  </tbody>\n",
       "</table>\n",
       "</div>"
      ],
      "text/plain": [
       "  first_digit   count\n",
       "0           1  0.3275\n",
       "1           2  0.1875\n",
       "2           3  0.0950\n",
       "3           4  0.0875\n",
       "4           5  0.0650\n",
       "5           6  0.0850\n",
       "6           7  0.0675\n",
       "7           8  0.0425\n",
       "8           9  0.0425"
      ]
     },
     "execution_count": 4,
     "metadata": {},
     "output_type": "execute_result"
    }
   ],
   "source": [
    "df = pd.read_table('./data/belgian_cities_population.csv', sep=',')\n",
    "df['scaled_pop'] = df['pop'] - np.min(df['pop']) + 1 # scale data so smallest value is 1\n",
    "df['first_digit'] = [str(n)[0] for n in df['scaled_pop']]\n",
    "counts_cities_df = df.groupby('first_digit').agg(\n",
    "    count = pd.NamedAgg('name', 'count')\n",
    ").reset_index()\n",
    "\n",
    "counts_cities_df['count'] /= np.sum(counts_cities_df['count']) # normalize values to compare with ideal case\n",
    "\n",
    "counts_cities_df"
   ]
  },
  {
   "cell_type": "code",
   "execution_count": 8,
   "metadata": {},
   "outputs": [
    {
     "data": {
      "image/png": "[encoded data removed]",
      "text/plain": [
       "<Figure size 432x288 with 1 Axes>"
      ]
     },
     "metadata": {
      "needs_background": "light"
     },
     "output_type": "display_data"
    }
   ],
   "source": [
    "fig, ax = plot_benford('first_digit', 'count', counts_cities_df, \"Populations of Belgian Cities\")"
   ]
  },
  {
   "cell_type": "markdown",
   "metadata": {},
   "source": [
    "# Gwent Pro-Rank MMR scores\n",
    "\n",
    "Let's check if Benford's law applies to Gwent MMR scores from last season. As the scores start at 9600 for players that completed their placements (25 games with four factions) and only the top 2860 players are included we'll scale the scores so the lowest score is 1."
   ]
  },
  {
   "cell_type": "code",
   "execution_count": 9,
   "metadata": {},
   "outputs": [
    {
     "data": {
      "text/html": [
       "<div>\n",
       "<style scoped>\n",
       "    .dataframe tbody tr th:only-of-type {\n",
       "        vertical-align: middle;\n",
       "    }\n",
       "\n",
       "    .dataframe tbody tr th {\n",
       "        vertical-align: top;\n",
       "    }\n",
       "\n",
       "    .dataframe thead th {\n",
       "        text-align: right;\n",
       "    }\n",
       "</style>\n",
       "<table border=\"1\" class=\"dataframe\">\n",
       "  <thead>\n",
       "    <tr style=\"text-align: right;\">\n",
       "      <th></th>\n",
       "      <th>first_digit</th>\n",
       "      <th>count</th>\n",
       "    </tr>\n",
       "  </thead>\n",
       "  <tbody>\n",
       "    <tr>\n",
       "      <th>0</th>\n",
       "      <td>1</td>\n",
       "      <td>0.306294</td>\n",
       "    </tr>\n",
       "    <tr>\n",
       "      <th>1</th>\n",
       "      <td>2</td>\n",
       "      <td>0.190210</td>\n",
       "    </tr>\n",
       "    <tr>\n",
       "      <th>2</th>\n",
       "      <td>3</td>\n",
       "      <td>0.139161</td>\n",
       "    </tr>\n",
       "    <tr>\n",
       "      <th>3</th>\n",
       "      <td>4</td>\n",
       "      <td>0.088112</td>\n",
       "    </tr>\n",
       "    <tr>\n",
       "      <th>4</th>\n",
       "      <td>5</td>\n",
       "      <td>0.073776</td>\n",
       "    </tr>\n",
       "    <tr>\n",
       "      <th>5</th>\n",
       "      <td>6</td>\n",
       "      <td>0.067483</td>\n",
       "    </tr>\n",
       "    <tr>\n",
       "      <th>6</th>\n",
       "      <td>7</td>\n",
       "      <td>0.046154</td>\n",
       "    </tr>\n",
       "    <tr>\n",
       "      <th>7</th>\n",
       "      <td>8</td>\n",
       "      <td>0.043706</td>\n",
       "    </tr>\n",
       "    <tr>\n",
       "      <th>8</th>\n",
       "      <td>9</td>\n",
       "      <td>0.045105</td>\n",
       "    </tr>\n",
       "  </tbody>\n",
       "</table>\n",
       "</div>"
      ],
      "text/plain": [
       "  first_digit     count\n",
       "0           1  0.306294\n",
       "1           2  0.190210\n",
       "2           3  0.139161\n",
       "3           4  0.088112\n",
       "4           5  0.073776\n",
       "5           6  0.067483\n",
       "6           7  0.046154\n",
       "7           8  0.043706\n",
       "8           9  0.045105"
      ]
     },
     "execution_count": 9,
     "metadata": {},
     "output_type": "execute_result"
    }
   ],
   "source": [
    "df = pd.read_excel('./data/season_of_the_draconid_2020.xlsx').drop(columns='Unnamed: 0')\n",
    "df['scaled_mmr'] = df['mmr']-np.min(df['mmr'])+1\n",
    "df['first_digit'] = [str(n)[0] for n in df['scaled_mmr']]\n",
    "counts_gwent_df = df.groupby('first_digit').agg(\n",
    "    count = pd.NamedAgg('name', 'count')\n",
    ").reset_index()\n",
    "\n",
    "counts_gwent_df['count'] /= np.sum(counts_gwent_df['count']) # normalize values to compare with ideal case\n",
    "\n",
    "counts_gwent_df\n"
   ]
  },
  {
   "cell_type": "code",
   "execution_count": 10,
   "metadata": {},
   "outputs": [
    {
     "data": {
      "image/png": "[encoded data removed]",
      "text/plain": [
       "<Figure size 432x288 with 1 Axes>"
      ]
     },
     "metadata": {
      "needs_background": "light"
     },
     "output_type": "display_data"
    }
   ],
   "source": [
    "fig, ax = plot_benford('first_digit', 'count', counts_gwent_df, \"Gwent Scores (Pro-Rank)\")"
   ]
  },
  {
   "cell_type": "markdown",
   "metadata": {},
   "source": [
    "# Altitude of the World's Capitals"
   ]
  },
  {
   "cell_type": "markdown",
   "metadata": {},
   "source": [
    "We can check if the law holds true for the altitude of different capitals in the world. Data from Wikipedia, we'll filter all captials which are at sea level as 0 is not a number we can consider for this."
   ]
  },
  {
   "cell_type": "code",
   "execution_count": 16,
   "metadata": {},
   "outputs": [
    {
     "data": {
      "image/png": "[encoded data removed]",
      "text/plain": [
       "<Figure size 432x288 with 1 Axes>"
      ]
     },
     "metadata": {
      "needs_background": "light"
     },
     "output_type": "display_data"
    }
   ],
   "source": [
    "df = pd.read_excel('./data/capitals_altitude.xlsx')\n",
    "df = df[df['Elevation (m)'] > 0]\n",
    "\n",
    "df['first_digit_m'] = [str(n)[0] for n in df['Elevation (m)']]\n",
    "df['first_digit_ft'] = [str(n)[0] for n in df['Elevation (ft)']]\n",
    "                        \n",
    "counts_altitude_df = df.groupby('first_digit_m').agg(\n",
    "    count = pd.NamedAgg('Country', 'count'),\n",
    ").reset_index()\n",
    "\n",
    "counts_altitude_df['count'] /= np.sum(counts_altitude_df['count']) # normalize values to compare with ideal case\n",
    "\n",
    "fig, ax = plot_benford('first_digit_m', 'count', counts_altitude_df, \"Altitudes (m) of Capitals\")"
   ]
  },
  {
   "cell_type": "markdown",
   "metadata": {},
   "source": [
    "# Bacteria in the human gut\n"
   ]
  },
  {
   "cell_type": "code",
   "execution_count": 12,
   "metadata": {},
   "outputs": [],
   "source": [
    "# Original file: http://downloads.hmpdacc.org/data/HMQCP/otu_table_psn_v35.txt.gz\n",
    "# Header was removed and recompressed\n",
    "df = pd.read_table('./data/v35_psn_otu.genus.fixed.txt.gz', compression='gzip')"
   ]
  },
  {
   "cell_type": "code",
   "execution_count": 13,
   "metadata": {},
   "outputs": [
    {
     "data": {
      "image/png": "[encoded data removed]",
      "text/plain": [
       "<Figure size 432x288 with 1 Axes>"
      ]
     },
     "metadata": {
      "needs_background": "light"
     },
     "output_type": "display_data"
    }
   ],
   "source": [
    "first_digits = (str(x)[0] for x in df.drop(columns=[\"#OTU ID\", \"Consensus Lineage\"]).values.flatten() if float(x) > 0)\n",
    "c = Counter(first_digits)\n",
    "counts_microbiome_df = pd.DataFrame([(k,v) for k,v in c.items()])\n",
    "counts_microbiome_df.columns = ['first_digit', 'count']\n",
    "\n",
    "counts_microbiome_df['count'] /= np.sum(counts_microbiome_df['count']) # normalize values to compare with ideal case\n",
    "\n",
    "fig, ax = plot_benford('first_digit', 'count', counts_microbiome_df, \"Bacterial Abundances in the Human Gut\")"
   ]
  },
  {
   "cell_type": "markdown",
   "metadata": {},
   "source": [
    "# COVID-19 infections in Belgium"
   ]
  },
  {
   "cell_type": "code",
   "execution_count": 15,
   "metadata": {},
   "outputs": [
    {
     "data": {
      "image/png": "[encoded data removed]",
      "text/plain": [
       "<Figure size 432x288 with 1 Axes>"
      ]
     },
     "metadata": {
      "needs_background": "light"
     },
     "output_type": "display_data"
    }
   ],
   "source": [
    "df = pd.read_csv('./data/COVID19BE_CASES_AGESEX.csv').dropna()\n",
    "\n",
    "grouped_df = df.groupby(['DATE', 'PROVINCE']).agg(\n",
    "    count = pd.NamedAgg('CASES', 'sum')\n",
    ").reset_index()\n",
    "\n",
    "grouped_df['first_digit'] = [str(n)[0] for n in grouped_df['count']]\n",
    "\n",
    "counts_covid_df = grouped_df.groupby('first_digit').agg(\n",
    "    count = pd.NamedAgg('first_digit', 'count')\n",
    ").reset_index()\n",
    "\n",
    "counts_covid_df['count'] /= np.sum(counts_covid_df['count']) # normalize values to compare with ideal case\n",
    "\n",
    "fig, ax = plot_benford('first_digit', 'count', counts_covid_df, \"Daily COVID-19 infections in Belgian Provinces\")"
   ]
  }
 ],
 "metadata": {
  "kernelspec": {
   "display_name": "Python 3",
   "language": "python",
   "name": "python3"
  },
  "language_info": {
   "codemirror_mode": {
    "name": "ipython",
    "version": 3
   },
   "file_extension": ".py",
   "mimetype": "text/x-python",
   "name": "python",
   "nbconvert_exporter": "python",
   "pygments_lexer": "ipython3",
   "version": "3.7.6"
  }
 },
 "nbformat": 4,
 "nbformat_minor": 4
}
